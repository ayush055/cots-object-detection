{
 "cells": [
  {
   "cell_type": "code",
   "execution_count": 37,
   "metadata": {},
   "outputs": [],
   "source": [
    "import numpy as np # linear algebra\n",
    "import pandas as pd # data processing, CSV file I/O (e.g. pd.read_csv)\n",
    "from shutil import copyfile\n",
    "import os\n",
    "import cv2"
   ]
  },
  {
   "cell_type": "code",
   "execution_count": 38,
   "metadata": {},
   "outputs": [],
   "source": [
    "train = pd.read_csv('./tensorflow-great-barrier-reef/train-5folds.csv')\n",
    "train['pos'] = train.annotations != '[]'\n",
    "fold = -2"
   ]
  },
  {
   "cell_type": "code",
   "execution_count": 39,
   "metadata": {},
   "outputs": [],
   "source": [
    "val = train[train['fold'] == 1]\n"
   ]
  },
  {
   "cell_type": "code",
   "execution_count": 40,
   "metadata": {},
   "outputs": [
    {
     "name": "stderr",
     "output_type": "stream",
     "text": [
      "C:\\Users\\rajag\\AppData\\Local\\Temp/ipykernel_14144/3150761237.py:1: SettingWithCopyWarning: \n",
      "A value is trying to be set on a copy of a slice from a DataFrame.\n",
      "Try using .loc[row_indexer,col_indexer] = value instead\n",
      "\n",
      "See the caveats in the documentation: https://pandas.pydata.org/pandas-docs/stable/user_guide/indexing.html#returning-a-view-versus-a-copy\n",
      "  val[\"num_bbox\"] = val['annotations'].apply(lambda x: str.count(x, 'x'))\n"
     ]
    }
   ],
   "source": [
    "val[\"num_bbox\"] = val['annotations'].apply(lambda x: str.count(x, 'x'))"
   ]
  },
  {
   "cell_type": "code",
   "execution_count": 41,
   "metadata": {},
   "outputs": [
    {
     "data": {
      "text/plain": [
       "'../input/tensorflow-great-barrier-reef/train_images/video_0/4558.jpg'"
      ]
     },
     "execution_count": 41,
     "metadata": {},
     "output_type": "execute_result"
    }
   ],
   "source": [
    "val[val['num_bbox'] > 3].image_path.to_list()[0]"
   ]
  },
  {
   "cell_type": "code",
   "execution_count": 42,
   "metadata": {},
   "outputs": [],
   "source": [
    "image_paths = val.image_path.tolist()"
   ]
  },
  {
   "cell_type": "code",
   "execution_count": 43,
   "metadata": {},
   "outputs": [
    {
     "data": {
      "text/plain": [
       "'../input/tensorflow-great-barrier-reef/train_images/video_0/8970.jpg'"
      ]
     },
     "execution_count": 43,
     "metadata": {},
     "output_type": "execute_result"
    }
   ],
   "source": [
    "image_paths[2135]"
   ]
  },
  {
   "cell_type": "code",
   "execution_count": 44,
   "metadata": {},
   "outputs": [],
   "source": [
    "HOME_DIR = \"./yolo_data_subseq_empty_all\"\n",
    "DATASET_PATH = os.path.join(f'fold{str(fold)}', 'images')\n",
    "LABELS_PATH = os.path.join(f'fold{str(fold)}', 'labels')\n",
    "\n",
    "os.makedirs(os.path.join(HOME_DIR, f'fold{str(fold)}'))\n",
    "\n",
    "for path in [DATASET_PATH, LABELS_PATH]:\n",
    "    os.makedirs(os.path.join(HOME_DIR, path))\n",
    "    os.makedirs(os.path.join(HOME_DIR, path, 'train'))\n",
    "    os.makedirs(os.path.join(HOME_DIR, path, 'val'))"
   ]
  },
  {
   "cell_type": "code",
   "execution_count": 45,
   "metadata": {},
   "outputs": [],
   "source": [
    "sharp_filter = np.array([[0,-1,0], [-1,5,-1], [0,-1,0]])\n",
    "def gamma_enhance(img, gamma=1.0):\n",
    "    lookUpTable = np.empty((1,256), np.uint8)\n",
    "    for i in range(256):\n",
    "        lookUpTable[0,i] = np.clip(pow(i / 255.0, gamma) * 255.0, 0, 255)\n",
    "    return cv2.LUT(img, lookUpTable)"
   ]
  },
  {
   "cell_type": "code",
   "execution_count": 46,
   "metadata": {},
   "outputs": [],
   "source": [
    "# # # Preprocessed Images\n",
    "\n",
    "# for i in tqdm(range(len(train))):\n",
    "#     row = train.loc[i]\n",
    "#     img = cv2.imread(row.image_path)\n",
    "#     img = gamma_enhance(cv2.filter2D(img, -1, sharp_filter), gamma=2)\n",
    "#     img = cv2.cvtColor(img, cv2.COLOR_BGR2RGB)\n",
    "#     if row.video_id != fold:\n",
    "#         cv2.imwrite(f'{HOME_DIR}{DATASET_PATH}/train/{row.image_id}.jpg', img)\n",
    "#         # copyfile(f'{row.image_path}', f'{HOME_DIR}{DATASET_PATH}/train/{row.image_id}.jpg')\n",
    "#     else:\n",
    "#         cv2.imwrite(f'{HOME_DIR}{DATASET_PATH}/val/{row.image_id}.jpg', img)\n",
    "#         # copyfile(f'{row.image_path}', f'{HOME_DIR}{DATASET_PATH}/val/{row.image_id}.jpg') "
   ]
  },
  {
   "cell_type": "code",
   "execution_count": 47,
   "metadata": {},
   "outputs": [],
   "source": [
    "annos = []\n",
    "for i, x in train.iterrows():\n",
    "    if x.fold == fold:\n",
    "        mode = 'val'\n",
    "    else:\n",
    "        # train\n",
    "        mode = 'train'\n",
    "        # if not x.pos: continue\n",
    "        # val\n",
    "    path = f'./{x.image_path[9:]}'\n",
    "    img = cv2.imread(path)\n",
    "    # img = cv2.cvtColor(img, cv2.COLOR_BGR2RGB)\n",
    "    img = gamma_enhance(cv2.filter2D(img, -1, sharp_filter), gamma=2)\n",
    "    cv2.imwrite(f'{HOME_DIR}/fold{fold}/images/{mode}/{x.image_id}.jpg', img)\n",
    "    # copyfile(f'./tensorflow-great-barrier-reef/train_images/video_{x.video_id}/{x.video_frame}.jpg',\n",
    "    #             f'{HOME_DIR}/fold{fold}/images/{mode}/{x.image_id}.jpg')\n",
    "    r = ''\n",
    "    anno = eval(x.annotations)\n",
    "    if not x.pos:\n",
    "        continue\n",
    "    for an in anno:\n",
    "#            annos.append(an)\n",
    "        r += '0 {} {} {} {}\\n'.format((an['x'] + an['width'] / 2) / 1280,\n",
    "                                        (an['y'] + an['height'] / 2) / 720,\n",
    "                                        an['width'] / 1280, an['height'] / 720)\n",
    "    with open(f'{HOME_DIR}/fold{fold}/labels/{mode}/{x.image_id}.txt', 'w') as fp:\n",
    "        fp.write(r)"
   ]
  },
  {
   "cell_type": "code",
   "execution_count": 49,
   "metadata": {},
   "outputs": [],
   "source": [
    "annos = []\n",
    "fold = 2\n",
    "val = train[train['fold'] == fold]\n",
    "for i, x in val.iterrows():\n",
    "    mode = 'val'\n",
    "    path = f'./{x.image_path[9:]}'\n",
    "    img = cv2.imread(path)\n",
    "    # img = cv2.cvtColor(img, cv2.COLOR_BGR2RGB)\n",
    "    img = gamma_enhance(cv2.filter2D(img, -1, sharp_filter), gamma=2)\n",
    "    cv2.imwrite(f'{HOME_DIR}/fold-2/images/{mode}/{x.image_id}.jpg', img)\n",
    "    # copyfile(f'./tensorflow-great-barrier-reef/train_images/video_{x.video_id}/{x.video_frame}.jpg',\n",
    "    #             f'{HOME_DIR}/fold-1/images/{mode}/{x.image_id}.jpg')\n",
    "    r = ''\n",
    "    anno = eval(x.annotations)\n",
    "    if not x.pos:\n",
    "        continue\n",
    "    for an in anno:\n",
    "#            annos.append(an)\n",
    "        r += '0 {} {} {} {}\\n'.format((an['x'] + an['width'] / 2) / 1280,\n",
    "                                        (an['y'] + an['height'] / 2) / 720,\n",
    "                                        an['width'] / 1280, an['height'] / 720)\n",
    "    with open(f'{HOME_DIR}/fold-2/labels/{mode}/{x.image_id}.txt', 'w') as fp:\n",
    "        fp.write(r)"
   ]
  },
  {
   "cell_type": "code",
   "execution_count": null,
   "metadata": {},
   "outputs": [],
   "source": []
  }
 ],
 "metadata": {
  "interpreter": {
   "hash": "9cec74ebff8b098a626fe5bffb7f4bb9a9a8a54a30de8c9492799db6d88b4598"
  },
  "kernelspec": {
   "display_name": "Python 3.8.8 64-bit ('cots2': venv)",
   "language": "python",
   "name": "python3"
  },
  "language_info": {
   "codemirror_mode": {
    "name": "ipython",
    "version": 3
   },
   "file_extension": ".py",
   "mimetype": "text/x-python",
   "name": "python",
   "nbconvert_exporter": "python",
   "pygments_lexer": "ipython3",
   "version": "3.8.8"
  },
  "orig_nbformat": 4
 },
 "nbformat": 4,
 "nbformat_minor": 2
}
